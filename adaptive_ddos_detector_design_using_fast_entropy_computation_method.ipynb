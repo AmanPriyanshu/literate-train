{
  "nbformat": 4,
  "nbformat_minor": 0,
  "metadata": {
    "colab": {
      "name": "adaptive_ddos_detector_design_using_fast_entropy_computation_method.ipynb",
      "provenance": [],
      "authorship_tag": "ABX9TyN8s5DXlzf/JA6RsWDluxZS",
      "include_colab_link": true
    },
    "kernelspec": {
      "name": "python3",
      "display_name": "Python 3"
    }
  },
  "cells": [
    {
      "cell_type": "markdown",
      "metadata": {
        "id": "view-in-github",
        "colab_type": "text"
      },
      "source": [
        "<a href=\"https://colab.research.google.com/github/AmanPriyanshu/literate-train/blob/master/adaptive_ddos_detector_design_using_fast_entropy_computation_method.ipynb\" target=\"_parent\"><img src=\"https://colab.research.google.com/assets/colab-badge.svg\" alt=\"Open In Colab\"/></a>"
      ]
    },
    {
      "cell_type": "markdown",
      "metadata": {
        "id": "5XdCYcmChN_1",
        "colab_type": "text"
      },
      "source": [
        "# Adaptive DDoS Detector Design Using Fast Entropy Computation Method\n",
        "\n",
        "```console\n",
        "@INPROCEEDINGS{5976144,\n",
        "  author={G. {No} and I. {Ra}},\n",
        "  booktitle={2011 Fifth International Conference on Innovative Mobile and Internet Services in Ubiquitous Computing}, \n",
        "  title={Adaptive DDoS Detector Design Using Fast Entropy Computation Method}, \n",
        "  year={2011},\n",
        "  volume={},\n",
        "  number={},\n",
        "  pages={86-93},}\n",
        "```\n",
        "\n",
        "## INTRODUCTION:\n",
        "Fast Entropy shows the significant reduce of computational time compared to conventional entropy computation while it maintains detection accuracy. However, Fast Entropy needs the manual threshold settings during detection process which is not realistic in real detection facility. The paper introduces adaptive detector with dynamic detection window size and adaptive threshold shifting using Fast Entropy, called AFEA (Adaptive DDoS attack detection using Fast Entropy Approach). \n",
        "\n",
        " Suppose X is a discrete random variable with alphabet χ and the probability mass function p(x) = Pr {X=x}, x∈ χ. Then, the entropy H(X) of a discrete random\n",
        "variable X can be defined as:\n",
        "\n",
        "H(X) = - Σ p(x) log p(x), where x ∈ χ\n",
        "\n",
        "## Fast-Entropy:\n",
        "The Fast Entropy Approach is developed as follows:\n",
        "\n",
        "Let, entropy, H, be a quantity of disorder that represent the number of different types of symbols. Thus, the value of H must be increased when the disorder is increased. We can simplify the expression of entropy as follows:\n",
        "\n",
        "> H = log (the number of possible states within input information)\n",
        "\n",
        "Instead of using probabilities to compute H to express quantity of disorder, we use only the number of different types of symbols. We redefine the entropy as\n",
        "\n",
        "> H = log (the number of possible system states),\n",
        "\n",
        "where, possible state means the number of distinct\n",
        "packets in the system."
      ]
    },
    {
      "cell_type": "markdown",
      "metadata": {
        "id": "AQ1csYD8kK9T",
        "colab_type": "text"
      },
      "source": [
        "However, this approach is not able to show the total number of being appeared symbols, which does not allow us effectively detect attacks when an attacker significantly increases the number of different symbols (packets) to paralyze a victim’s system by saturating a victim’s system capacity during DDoS attack.\n",
        "\n",
        "To overcome this weakness, we add the total number of symbols into the modified entropy, H’, and redefine entropy as:\n",
        "\n",
        "> H' = - log(m/n) = log(n/m)\n",
        "\n",
        "where, m is the number distinct packets, n is total number of packets in an input. \n",
        "\n",
        "However, this new entropy could still increase the false negatives if attackers increase both the number of packets, and the number of packet types simultaneously. In that case, the ratio: `n/m` will not be changed noticeably, and the entropy value will stay almost same, which makes the algorithm\n",
        "miss attacks. To minimize the false negatives, we proposed an entropy calibration factor."
      ]
    },
    {
      "cell_type": "markdown",
      "metadata": {
        "id": "CAOHbfMymPl0",
        "colab_type": "text"
      },
      "source": [
        "Suppose n[i] is the total number of packets in monitoring interval t[i], and consider two monitor variables, n[i-1] and n[i] at time t[i-1] and t[i] respectively . Then, the calibration entropy, H\", can be defined as follows:\n",
        "\n",
        "> H\" = | logs( n[i-1]/n[i] ) | , if n[i] >= n[i-1]\n",
        "\n",
        "> H\" = | logs( n[i]/n[i-1] ) | , if n[i] < n[i-1]\n",
        "\n",
        "> t =  | logs( n[i-1]/n[i] ) | , if n[i] >= n[i-1]\n",
        "\n",
        "> t = | logs( n[i]/n[i-1] ) | , if n[i] < n[i-1]\n",
        "\n",
        "> H' = - log (m/n) + t\n",
        "\n",
        "where, m is the number distinct packets, n is total number of packets in an input, and is packet number calibration factor (same as H\"). "
      ]
    },
    {
      "cell_type": "markdown",
      "metadata": {
        "id": "XVdfu2E-o5gV",
        "colab_type": "text"
      },
      "source": [
        "## Adative DDoS Attack Aecteor:\n",
        "\n",
        " For detecting DDoS attacks in real time, an intrusion detection system should continuously monitor entropy values sequentially per every monitoring interval, called window size. If we have a monitoring interval of t seconds, we monitor the entropy value for k×t seconds where k is the size of Moving Average Window. In every monitoring interval t, an entropy value is computed.\n",
        "\n",
        " Let’s define as follows:\n",
        "* μi: i-th average of Moving Average Window\n",
        "* σ: Standard Deviation of H[n-m] ~ H[n-1] with μi\n",
        "* Di: absolute value of difference between μi and H[n] (i.e., Di = | μi - H[n] | )\n",
        "* β: threshold multiplication factor, positive integer value (default β = 3)\n",
        "* ω: threshold (ω = β * σ) "
      ]
    },
    {
      "cell_type": "markdown",
      "metadata": {
        "id": "elRS2jv-xhGe",
        "colab_type": "text"
      },
      "source": [
        "The β will be changed under the following rules:\n",
        "* If Hn > 1.5 μi, then increase β by 1\n",
        "* If 0.5 μi ≤ Hn ≤ 1.5 μi, then maintain current β\n",
        "* If Hn < 0.5 μi, then decrease β by 1 \n",
        "\n",
        "![image.png](https://github.com/AmanPriyanshu/literate-train/blob/master/images/Adaptive%20DDoS%20Detector%20Design%20Using%20Fast%20Entropy%20Computation%20Method/algorithm.PNG)"
      ]
    },
    {
      "cell_type": "markdown",
      "metadata": {
        "id": "fTfG8VFFyGID",
        "colab_type": "text"
      },
      "source": [
        "SDMAW works as follows;\n",
        "* The detector has one MAW.\n",
        "* Four detection criteria (source IP address, destination IP address, source port, and destination port entropy) share the MAW size.\n",
        "* Whenever an attack occur, the size of SDMAW increased by 1\n",
        "* If the channel shows normal condition during 30 detection periods in a row,the size of SDMAW is decreased by 1. "
      ]
    },
    {
      "cell_type": "markdown",
      "metadata": {
        "id": "3HQF824Kyh2y",
        "colab_type": "text"
      },
      "source": [
        "The detector manages the size of each MDMAW size. The size of individual MDMAW_TS changes its value whenever a threshold value changes.\n",
        "MDMAW_TS works\n",
        "as follows;\n",
        "* The detector has four MAWs to monitor the channel condition of source IP address, destination IP address, source port, and destination port entropy respectively.\n",
        "* If β has a positive shift, the size of MDMAW is increased by 1, respectively.\n",
        "If β has a negative shift, the size of MDMAW is decreased by 1, respectively\n",
        "* If β has no shift, the size of MDMAW is maintained with same size. "
      ]
    },
    {
      "cell_type": "code",
      "metadata": {
        "id": "f5s7e6kdhGIV",
        "colab_type": "code",
        "colab": {}
      },
      "source": [
        ""
      ],
      "execution_count": null,
      "outputs": []
    }
  ]
}
